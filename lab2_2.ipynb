{
 "cells": [
  {
   "cell_type": "code",
   "execution_count": 200,
   "id": "8ff811b4",
   "metadata": {},
   "outputs": [
    {
     "name": "stdout",
     "output_type": "stream",
     "text": [
      "2.897% составляют пропущенные данные от общего количества\n",
      "Все записи соответствуют формату даты.\n",
      "Все записи соответствуют формату даты.\n",
      "Все записи соответствуют формату даты.\n",
      "Все записи соответствуют формату даты.\n",
      "Все записи соответствуют формату даты.\n",
      "2 193 195\n"
     ]
    },
    {
     "data": {
      "text/plain": [
       "0    Afghanistan\n",
       "1        Albania\n",
       "Name: Country, dtype: object"
      ]
     },
     "execution_count": 200,
     "metadata": {},
     "output_type": "execute_result"
    }
   ],
   "source": [
    "import pandas as pd\n",
    "import numpy as np\n",
    "import re\n",
    "retail_df = pd.read_csv(\"D:/IDA/online_retail_II.csv\")\n",
    "global_temperature_city_df = pd.read_csv(\"D:/IDA/global_temperature/GlobalLandTemperaturesByCity.csv\")\n",
    "global_temperature_country_df = pd.read_csv(\"D:/IDA/global_temperature/GlobalLandTemperaturesByCountry.csv\")\n",
    "global_temperature_major_city_df = pd.read_csv(\"D:/IDA/global_temperature/GlobalLandTemperaturesByMajorCity.csv\")\n",
    "global_temperature_state_df = pd.read_csv(\"D:/IDA/global_temperature/GlobalLandTemperaturesByState.csv\")\n",
    "global_temperature_df =pd.read_csv(\"D:/IDA/global_temperature/GlobalTemperatures.csv\")\n",
    "covid19_tweets_df = pd.read_csv(\"D:/IDA/covid19_tweets.csv\")\n",
    "world_data_df = pd.read_csv(\"D:/IDA/world-data-2023.csv\")\n",
    "count_null = retail_df.size - retail_df.count().sum()\n",
    "percente_null = count_null / retail_df.size * 100\n",
    "print(f\"{round(percente_null, 3)}% составляют пропущенные данные от общего количества\")\n",
    "def check_date_format(*dfs):    \n",
    "    for df in dfs:\n",
    "        df[\"dt\"] = pd.to_datetime(df[\"dt\"], errors='coerce')\n",
    "        format_correct = df[\"dt\"].notnull().all()\n",
    "\n",
    "        if format_correct:\n",
    "            print('Все записи соответствуют формату даты.')\n",
    "        else:\n",
    "            print('В некоторых записях формат даты не соблюдается.')\n",
    "check_date_format(global_temperature_city_df, global_temperature_country_df, global_temperature_major_city_df, global_temperature_state_df, global_temperature_df)\n",
    "covid19_tweets_df[\"date\"] = pd.to_datetime(covid19_tweets_df[\"date\"])\n",
    "covid19_tweets_df\n",
    "current_date = pd.to_datetime('2020-08-29')  # Текущая дата\n",
    "time_interval = pd.DateOffset(days=7)  # Временной интервал (например, последние 7 дней)\n",
    "actual_tweets = covid19_tweets_df[covid19_tweets_df['date'] >= (current_date - time_interval)]\n",
    "\n",
    "# Вывод актуальных твитов\n",
    "actual_tweets[[\"date\", \"text\"]]\n",
    "\n",
    "#countries = countries.drop([\"#\",\"Population (2023)\", \"World Share\", \"Land Area (Km²)\"], axis=1)\n",
    "countries = world_data_df[\"Country\"]\n",
    "world_data_df = world_data_df[~world_data_df[\"Country\"].isin([\"Afghanistan\", \"Albania\"])]\n",
    "#countries[\"Country\"] = world_data_df[\"Country\"]\n",
    "if world_data_df[\"Country\"].count() == countries.count():\n",
    "    print(\"Представленна информация по всем странам\")\n",
    "else:\n",
    "    missing_countries = countries[~countries.isin(world_data_df[\"Country\"])]\n",
    "\n",
    "missing_countries.count()\n",
    "#world_data_df.loc[world_data_df[\"Country\"] == \"The Bahamas\"]\n",
    "#countries.loc[countries[\"Country\"] == \"Bahamas\"]\n",
    "print(missing_countries.count(), world_data_df[\"Country\"].count(), countries.count())\n",
    "# missing_countries[\"Country\"]\n",
    "missing_countries"
   ]
  },
  {
   "cell_type": "code",
   "execution_count": null,
   "id": "76e0d983",
   "metadata": {},
   "outputs": [],
   "source": []
  }
 ],
 "metadata": {
  "kernelspec": {
   "display_name": "Python 3 (ipykernel)",
   "language": "python",
   "name": "python3"
  },
  "language_info": {
   "codemirror_mode": {
    "name": "ipython",
    "version": 3
   },
   "file_extension": ".py",
   "mimetype": "text/x-python",
   "name": "python",
   "nbconvert_exporter": "python",
   "pygments_lexer": "ipython3",
   "version": "3.11.4"
  }
 },
 "nbformat": 4,
 "nbformat_minor": 5
}
